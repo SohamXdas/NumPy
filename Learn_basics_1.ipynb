{
 "cells": [
  {
   "cell_type": "markdown",
   "id": "d5a68bef-9352-40bc-940b-4f080794ecde",
   "metadata": {},
   "source": [
    "## This is necessary in every program to use Numpy we need to export this first"
   ]
  },
  {
   "cell_type": "code",
   "execution_count": 51,
   "id": "710492c5-8270-44e9-882d-5aed71866a33",
   "metadata": {},
   "outputs": [],
   "source": [
    "import numpy as np"
   ]
  },
  {
   "cell_type": "markdown",
   "id": "b5e6a729-9bf2-4690-b118-5c4e4de27122",
   "metadata": {},
   "source": [
    "Now we are going to make a array using numpy\n",
    "to do this we will initialize a array as follows"
   ]
  },
  {
   "cell_type": "code",
   "execution_count": 52,
   "id": "4f5b153b-76a5-4609-8fa1-f13d8191b272",
   "metadata": {},
   "outputs": [],
   "source": [
    "a = np.array([1,2,3,4,5,6,7,8,9,10])"
   ]
  },
  {
   "cell_type": "code",
   "execution_count": 53,
   "id": "4fe9d91e-2eee-4183-b337-7a3afd7ef678",
   "metadata": {},
   "outputs": [
    {
     "name": "stdout",
     "output_type": "stream",
     "text": [
      "[ 1  2  3  4  5  6  7  8  9 10]\n"
     ]
    }
   ],
   "source": [
    "print(a)"
   ]
  },
  {
   "cell_type": "markdown",
   "id": "d6a22f3f-e92b-4f7c-b576-80b9f2d1278c",
   "metadata": {},
   "source": [
    "This was a one dimentional array 1D there can be multi dimentional array's as shown in the the following types of array's"
   ]
  },
  {
   "cell_type": "code",
   "execution_count": 54,
   "id": "4bbeed85-e0e5-429e-8ca5-145a516e0b40",
   "metadata": {},
   "outputs": [
    {
     "name": "stdout",
     "output_type": "stream",
     "text": [
      "[[1. 2. 3.]\n",
      " [4. 5. 6.]]\n"
     ]
    }
   ],
   "source": [
    "b = np.array([[1.0, 2.0, 3.0],[4.0, 5.0, 6.0]])\n",
    "## This is a 2 dimentional array\n",
    "print(b)"
   ]
  },
  {
   "cell_type": "markdown",
   "id": "8d6aa645-34cf-427a-9372-3667f9782c7a",
   "metadata": {},
   "source": [
    "Likewise this is a three dimentional array 3D"
   ]
  },
  {
   "cell_type": "code",
   "execution_count": 55,
   "id": "a0b2b286-2d6f-46d7-954c-6ae19280b66f",
   "metadata": {},
   "outputs": [
    {
     "name": "stdout",
     "output_type": "stream",
     "text": [
      "[[[0]\n",
      "  [0]]\n",
      "\n",
      " [[0]\n",
      "  [0]]]\n"
     ]
    }
   ],
   "source": [
    "c = np.array([[[0],[0]],[[0],[0]]])\n",
    "## This is a three dimentional array a list witin a list within a list \n",
    "## Generallly we dont need to visuallize it we we might need to :(\n",
    "print(c)"
   ]
  },
  {
   "cell_type": "markdown",
   "id": "2bbd050a-a485-4b6c-9e67-4b848cae1923",
   "metadata": {},
   "source": [
    "## Now we will use the properties of the nparray\n",
    "(the functions that come with it)"
   ]
  },
  {
   "cell_type": "code",
   "execution_count": 56,
   "id": "da66317d-d50a-446c-8ea3-2af3e4a2e5ab",
   "metadata": {},
   "outputs": [
    {
     "name": "stdout",
     "output_type": "stream",
     "text": [
      "1\n",
      "2\n",
      "3\n"
     ]
    }
   ],
   "source": [
    "## This is to get the dimensions of the array\n",
    "print(a.ndim)\n",
    "print(b.ndim)\n",
    "print(c.ndim)"
   ]
  },
  {
   "cell_type": "code",
   "execution_count": 57,
   "id": "6cabfcc5-2d8b-403e-9473-31b7a17c203a",
   "metadata": {},
   "outputs": [
    {
     "name": "stdout",
     "output_type": "stream",
     "text": [
      "(10,)\n",
      "(2, 3)\n",
      "(2, 2, 1)\n"
     ]
    }
   ],
   "source": [
    "## This is to check the shape of the array\n",
    "print(a.shape)\n",
    "## This is a vector as a is a single dimension so it only shows one dimension\n",
    "print(b.shape)\n",
    "print(c.shape)\n",
    "## The orientation this is first rows then column"
   ]
  },
  {
   "cell_type": "code",
   "execution_count": 58,
   "id": "017fdf2b-09fd-468a-ab68-20eca63fd62f",
   "metadata": {},
   "outputs": [
    {
     "name": "stdout",
     "output_type": "stream",
     "text": [
      "int32\n",
      "float64\n",
      "int32\n"
     ]
    }
   ],
   "source": [
    "## This is to get the data type of the array\n",
    "print(a.dtype)\n",
    "print(b.dtype)\n",
    "print(c.dtype)"
   ]
  },
  {
   "cell_type": "markdown",
   "id": "b1faf45a-765e-4a4e-8184-20f129bc2876",
   "metadata": {},
   "source": [
    "We can also change the datatype of an array by mentioning the datatype in the following way."
   ]
  },
  {
   "cell_type": "code",
   "execution_count": 59,
   "id": "9b51cc19-d5c1-415d-bdc2-07db79936746",
   "metadata": {},
   "outputs": [
    {
     "name": "stdout",
     "output_type": "stream",
     "text": [
      "int16\n"
     ]
    }
   ],
   "source": [
    "d = np.array([1,2,3,4,5], dtype='int16')\n",
    "print(d.dtype)"
   ]
  },
  {
   "cell_type": "markdown",
   "id": "1d784437-300d-4bbc-be14-20db37bb723a",
   "metadata": {},
   "source": [
    "So there are two types of size one is item size which is how much each element of the array is taking and \n",
    "size of the array is the total number of items present in the array.\n",
    "So the total size of the array can be calculated as follows x.itensize * x.size (there is also a function that calculates this for us .nbytes)"
   ]
  },
  {
   "cell_type": "code",
   "execution_count": 60,
   "id": "c76f70c7-3ae6-4507-bcb6-6fa79e6ac2d2",
   "metadata": {},
   "outputs": [
    {
     "name": "stdout",
     "output_type": "stream",
     "text": [
      "4\n",
      "10\n",
      "40\n",
      "40\n"
     ]
    }
   ],
   "source": [
    "## This is to get the size of the array (size/memory allocated to these arrays)\n",
    "print(a.itemsize)\n",
    "print(a.size)\n",
    "print(a.size * a.itemsize)\n",
    "## The function nbytes is nothing else but size of one element * no of total elements\n",
    "print(a.nbytes)"
   ]
  },
  {
   "cell_type": "code",
   "execution_count": 61,
   "id": "9903013f-5443-48bb-be8a-1f16a0683987",
   "metadata": {},
   "outputs": [
    {
     "name": "stdout",
     "output_type": "stream",
     "text": [
      "2\n",
      "5\n",
      "10\n",
      "10\n"
     ]
    }
   ],
   "source": [
    "## This is to get the size of the array (size/memory allocated to these arrays)\n",
    "## The function nbytes is nothing else but size of one element * no of total elements\n",
    "print(d.itemsize)\n",
    "print(d.size)\n",
    "print(d.size * d.itemsize)\n",
    "print(d.nbytes)"
   ]
  },
  {
   "cell_type": "markdown",
   "id": "be7c424c-7e86-4198-b366-fcfbc982ff21",
   "metadata": {},
   "source": [
    "## Now we will see how to access or change certain data in a array"
   ]
  },
  {
   "cell_type": "code",
   "execution_count": 62,
   "id": "56e13d3c-6469-49a3-b1af-9702791780c6",
   "metadata": {},
   "outputs": [],
   "source": [
    "##The counting in python works in the following ways\n",
    "\n",
    "##elements      1   2   3   4   5   6   7   8   9\n",
    "\n",
    "##counting 1    0   1   2   3   4   5   6   7   8\n",
    "\n",
    "##counting 2    0  -8  -7  -6  -5  -4  -3  -2  -1"
   ]
  },
  {
   "cell_type": "markdown",
   "id": "ebf9fa07-df63-4bf1-81ba-7748b6eec601",
   "metadata": {},
   "source": [
    "First let's define some new arrays to work on"
   ]
  },
  {
   "cell_type": "code",
   "execution_count": 63,
   "id": "eb946351-6091-4f4e-aa29-275301b6a8b3",
   "metadata": {},
   "outputs": [
    {
     "name": "stdout",
     "output_type": "stream",
     "text": [
      "[[ 1  2  3  4  5  6  7]\n",
      " [ 8  9 10 11 12 13 14]]\n",
      "(2, 7)\n"
     ]
    }
   ],
   "source": [
    "## Defining a new array 2D array\n",
    "x = np.array([[1,2,3,4,5,6,7], [8,9,10,11,12,13,14]])\n",
    "print(x)\n",
    "print(x.shape)"
   ]
  },
  {
   "cell_type": "markdown",
   "id": "5f09e5de-f215-4ace-82a7-9b63af53c789",
   "metadata": {},
   "source": [
    "Now we will try to get a specific element from the array \n",
    "**To do that we will use the notation of [row, column] [r,c]**\n",
    "And always remember the counting in Python starts from 0\n",
    "so if we want to access the 10 which is present in the row 2 column 3 we need to do this"
   ]
  },
  {
   "cell_type": "code",
   "execution_count": 64,
   "id": "b5704420-30cb-4271-9271-54a139f75017",
   "metadata": {},
   "outputs": [
    {
     "name": "stdout",
     "output_type": "stream",
     "text": [
      "10\n"
     ]
    }
   ],
   "source": [
    "print(x[1,2])"
   ]
  },
  {
   "cell_type": "markdown",
   "id": "659d7001-1d81-4363-9915-3effe6998b1a",
   "metadata": {},
   "source": [
    "We can also use negative annotation to extract elements from the array in the following way if we want to extract 13"
   ]
  },
  {
   "cell_type": "code",
   "execution_count": 65,
   "id": "7aadca7e-474a-4933-90a3-8f965e3ae370",
   "metadata": {},
   "outputs": [
    {
     "name": "stdout",
     "output_type": "stream",
     "text": [
      "13\n"
     ]
    }
   ],
   "source": [
    "print(x[1,-2])"
   ]
  },
  {
   "cell_type": "markdown",
   "id": "09e225ab-25eb-48b8-9594-7f8752a574ac",
   "metadata": {},
   "source": [
    "Now lets see how to export a entire Row or Column we will use the \":\" character for doing this as we have used it simallary in a list"
   ]
  },
  {
   "cell_type": "code",
   "execution_count": 66,
   "id": "9698022b-e562-4903-a8ac-8ece584d14bd",
   "metadata": {},
   "outputs": [
    {
     "name": "stdout",
     "output_type": "stream",
     "text": [
      "[ 8  9 10 11 12 13 14]\n",
      "[ 4 11]\n"
     ]
    }
   ],
   "source": [
    "print(x[1,:])\n",
    "print(x[:,3])\n",
    "# ':' this characteer meas give the all of the rows or colums in the present vice versa for example (3,:) mans give me all the colums on row number 3\n",
    "# Dont forget how the counting in pythonn works reffer above"
   ]
  },
  {
   "cell_type": "markdown",
   "id": "ff758298-d71d-40fb-82ce-94376e7f3b35",
   "metadata": {},
   "source": [
    "There is a way to do a little bit more actually unnder the hood this line works in the following ways\n",
    "\n",
    "    We can mention the varriable then in the box bracketsits the following **x['the row/column', startindex:endindex:stepsize]**\n",
    "    Like following \n",
    "    The step size means the jump in between the elements\n",
    "\n",
    "**x['the row/column', startindex:endindex:stepsize]**"
   ]
  },
  {
   "cell_type": "code",
   "execution_count": 67,
   "id": "e45c53eb-26af-46dc-a462-2619c796bbcd",
   "metadata": {},
   "outputs": [
    {
     "name": "stdout",
     "output_type": "stream",
     "text": [
      "[[ 1  2  3  4  5  6  7]\n",
      " [ 8  9 10 11 12 13 14]]\n"
     ]
    }
   ],
   "source": [
    "print(x)"
   ]
  },
  {
   "cell_type": "code",
   "execution_count": 68,
   "id": "bfe20a6b-a309-4e72-9072-f713eae4336c",
   "metadata": {},
   "outputs": [
    {
     "data": {
      "text/plain": [
       "array([2, 4, 6])"
      ]
     },
     "execution_count": 68,
     "metadata": {},
     "output_type": "execute_result"
    }
   ],
   "source": [
    "x[0, 1:8:2]"
   ]
  },
  {
   "cell_type": "markdown",
   "id": "874b03de-bafd-48c7-874f-ce68864613c6",
   "metadata": {},
   "source": [
    "Now lets see how to change a element"
   ]
  },
  {
   "cell_type": "code",
   "execution_count": 69,
   "id": "176487af-1ab5-4a3e-82d5-1f418dc69553",
   "metadata": {},
   "outputs": [
    {
     "name": "stdout",
     "output_type": "stream",
     "text": [
      "[[ 1  9  3  4  5  6  7]\n",
      " [ 8  9 10 11 12 13 14]]\n"
     ]
    }
   ],
   "source": [
    "x[0,1] = 9\n",
    "print(x)"
   ]
  },
  {
   "cell_type": "markdown",
   "id": "16c4151f-4afd-4c81-b7bc-096f2108b3a1",
   "metadata": {},
   "source": [
    "We can also change entire rows or colums in the following ways"
   ]
  },
  {
   "cell_type": "code",
   "execution_count": 70,
   "id": "f27ada59-62a5-4660-9057-6141faac588a",
   "metadata": {},
   "outputs": [
    {
     "name": "stdout",
     "output_type": "stream",
     "text": [
      "[[ 1  9  3  4  5  6  7]\n",
      " [22 22 22 22 22 22 22]]\n"
     ]
    }
   ],
   "source": [
    "x[1,:] = 22\n",
    "print(x)"
   ]
  },
  {
   "cell_type": "markdown",
   "id": "ad151a8a-9d91-43b8-943c-dde7baed2762",
   "metadata": {},
   "source": [
    "**Now lets see a 3-D exapmle**"
   ]
  },
  {
   "cell_type": "code",
   "execution_count": 71,
   "id": "6ab0a821-ea28-4f19-ab95-b324e83ec5d4",
   "metadata": {},
   "outputs": [
    {
     "name": "stdout",
     "output_type": "stream",
     "text": [
      "[[[1 2]\n",
      "  [3 4]]\n",
      "\n",
      " [[5 6]\n",
      "  [7 8]]]\n"
     ]
    }
   ],
   "source": [
    "#initialying a 3-d array\n",
    "y = np.array([[[1,2],[3,4]],[[5,6],[7,8]]])\n",
    "print(y)"
   ]
  },
  {
   "cell_type": "markdown",
   "id": "73a09b31-e186-426b-9860-41880f0c99d2",
   "metadata": {},
   "source": [
    "Now lets see how to get a specific -element in a 3-D array \n"
   ]
  },
  {
   "cell_type": "code",
   "execution_count": 72,
   "id": "249f092b-f67b-4056-93a1-60a16238e1cb",
   "metadata": {},
   "outputs": [
    {
     "name": "stdout",
     "output_type": "stream",
     "text": [
      "4\n"
     ]
    }
   ],
   "source": [
    "#get a specific element \n",
    "#of get or work with complex 3D or bigger arrays we work outside in\n",
    "#for example we will first define the outer array then we will go into the inner matrices\n",
    "print ((y[0,1,1]))"
   ]
  },
  {
   "cell_type": "markdown",
   "id": "c9c49c5f-b0f3-439c-a386-506d0a743d4c",
   "metadata": {},
   "source": [
    "Now if we have to change some elements it works the same way but if we want to change the a matrices entirely we can do that too but the matrices have to be of the same dimensions "
   ]
  },
  {
   "cell_type": "code",
   "execution_count": 73,
   "id": "034dc40d-df00-4748-a8ea-78df0bc7b39e",
   "metadata": {},
   "outputs": [
    {
     "name": "stdout",
     "output_type": "stream",
     "text": [
      "[[[1 2]\n",
      "  [0 0]]\n",
      "\n",
      " [[5 6]\n",
      "  [0 0]]]\n"
     ]
    }
   ],
   "source": [
    "y[:,1,:] = [[0,0],[0,0]]\n",
    "print(y)"
   ]
  },
  {
   "cell_type": "markdown",
   "id": "3f7c900a-57d9-4016-b493-df854ce2d137",
   "metadata": {},
   "source": [
    "## Initializing Different Types of Arrays"
   ]
  },
  {
   "cell_type": "markdown",
   "id": "ec7484a9-8ea9-4ec6-9827-c81ef58de0fe",
   "metadata": {},
   "source": [
    "Now we will see how many different types of array exist and how to initialize those"
   ]
  },
  {
   "cell_type": "code",
   "execution_count": 74,
   "id": "a98948ab-20fa-4faa-95d0-8490ec838cd5",
   "metadata": {},
   "outputs": [
    {
     "name": "stdout",
     "output_type": "stream",
     "text": [
      "[0. 0. 0.]\n",
      "\n",
      "[[0. 0. 0.]\n",
      " [0. 0. 0.]]\n",
      "\n",
      "[[[0. 0. 0.]\n",
      "  [0. 0. 0.]\n",
      "  [0. 0. 0.]]\n",
      "\n",
      " [[0. 0. 0.]\n",
      "  [0. 0. 0.]\n",
      "  [0. 0. 0.]]]\n"
     ]
    }
   ],
   "source": [
    "## All zero matrices can be created in the following ways\n",
    "zero = np.zeros(3)\n",
    "zero2 = np.zeros((2,3))\n",
    "zero3 = np.zeros((2,3,3))\n",
    "\n",
    "print(zero)\n",
    "print()\n",
    "print(zero2)\n",
    "print()\n",
    "print(zero3)"
   ]
  },
  {
   "cell_type": "code",
   "execution_count": 75,
   "id": "ddaf430d-1440-4ca1-890f-e0ddf9278e27",
   "metadata": {},
   "outputs": [
    {
     "name": "stdout",
     "output_type": "stream",
     "text": [
      "[[[1 1]\n",
      "  [1 1]]\n",
      "\n",
      " [[1 1]\n",
      "  [1 1]]\n",
      "\n",
      " [[1 1]\n",
      "  [1 1]]\n",
      "\n",
      " [[1 1]\n",
      "  [1 1]]]\n"
     ]
    }
   ],
   "source": [
    "## Now Lets try to make a 1s matriuc\n",
    "## We can also specify the data type we wa the matrice of like following\n",
    "one = np.ones((4,2,2), dtype='int32')\n",
    "print(one)"
   ]
  },
  {
   "cell_type": "code",
   "execution_count": 76,
   "id": "f77de2e1-9e1d-42b4-8e35-08c8c0ac06c0",
   "metadata": {},
   "outputs": [
    {
     "name": "stdout",
     "output_type": "stream",
     "text": [
      "[[69 69]\n",
      " [69 69]]\n"
     ]
    }
   ],
   "source": [
    "## and to make a matrice of any other number \n",
    "other = np.full((2,2), 69, dtype='int64')\n",
    "## This takes in 2 inputs the shape of the matrice and then the nummber we wanna fill the matrice of\n",
    "## Here 2,2  is the shape of the matrice and 69 is the number we chose to fill the matrice with.\n",
    "## We can also put a data type after this as , dtype='int32' \n",
    "print (other)"
   ]
  },
  {
   "cell_type": "code",
   "execution_count": 77,
   "id": "8adfaee9-bc3f-4a47-829e-c274d2f83e06",
   "metadata": {},
   "outputs": [
    {
     "name": "stdout",
     "output_type": "stream",
     "text": [
      "[[[1 2]\n",
      "  [0 0]]\n",
      "\n",
      " [[5 6]\n",
      "  [0 0]]]\n",
      "\n",
      "[[[0 0]\n",
      "  [0 0]]\n",
      "\n",
      " [[0 0]\n",
      "  [0 0]]]\n"
     ]
    }
   ],
   "source": [
    "## We can use the shapes of pre existing arrays by using the function full_like\n",
    "print(y)\n",
    "print()\n",
    "_= np.full_like(y,0)\n",
    "## The above sintax can also be written as np.full(y.shape, 0)\n",
    "print(_)"
   ]
  },
  {
   "cell_type": "code",
   "execution_count": 78,
   "id": "9c84f2ce-e751-4cb5-9d51-ac623a8f3e00",
   "metadata": {},
   "outputs": [
    {
     "name": "stdout",
     "output_type": "stream",
     "text": [
      "[[[0.37966012 0.17311389 0.17338978]\n",
      "  [0.50314538 0.34600566 0.96886809]]\n",
      "\n",
      " [[0.77518647 0.19955621 0.11568769]\n",
      "  [0.05187011 0.29314221 0.87662799]]\n",
      "\n",
      " [[0.64056259 0.29742309 0.49464663]\n",
      "  [0.49165189 0.77537926 0.21528845]]\n",
      "\n",
      " [[0.82408785 0.41462216 0.07491978]\n",
      "  [0.03122379 0.63077466 0.82565516]]]\n"
     ]
    }
   ],
   "source": [
    "## How to make a array with random decimal numbers\n",
    "print(np.random.rand(4,2,3))"
   ]
  },
  {
   "cell_type": "code",
   "execution_count": 79,
   "id": "d2cbe764-833d-466e-bbf6-b0808bde4df9",
   "metadata": {},
   "outputs": [
    {
     "name": "stdout",
     "output_type": "stream",
     "text": [
      "[[[0.36573613 0.38332433]\n",
      "  [0.32402865 0.05930611]]\n",
      "\n",
      " [[0.17501393 0.42562513]\n",
      "  [0.72866809 0.87062071]]]\n"
     ]
    }
   ],
   "source": [
    "## If we wanna pass in a shape and then fill it wih random nubers the sinntax for that is as follows\n",
    "print(np.random.random_sample(y.shape))\n",
    "## we can use any shape not necessarily y.shape"
   ]
  },
  {
   "cell_type": "code",
   "execution_count": 80,
   "id": "524d167f-6ce5-4a95-9941-8506a82cb6f7",
   "metadata": {},
   "outputs": [
    {
     "data": {
      "text/plain": [
       "array([[9, 6, 9],\n",
       "       [5, 4, 4],\n",
       "       [9, 8, 8]])"
      ]
     },
     "execution_count": 80,
     "metadata": {},
     "output_type": "execute_result"
    }
   ],
   "source": [
    "## How to make a array with random decimal numbers\n",
    "np.random.randint(2,10, size=(3,3))\n",
    "## The first one is the limit (2,10) means the number generated will be in between 2 and 10 (can also go negative) "
   ]
  },
  {
   "cell_type": "code",
   "execution_count": 81,
   "id": "0cd74e04-6a22-4cdb-948e-0bdcb492e8fd",
   "metadata": {},
   "outputs": [
    {
     "data": {
      "text/plain": [
       "array([[1., 0., 0., 0., 0.],\n",
       "       [0., 1., 0., 0., 0.],\n",
       "       [0., 0., 1., 0., 0.],\n",
       "       [0., 0., 0., 1., 0.],\n",
       "       [0., 0., 0., 0., 1.]])"
      ]
     },
     "execution_count": 81,
     "metadata": {},
     "output_type": "execute_result"
    }
   ],
   "source": [
    "## This is how to make a identity matrix\n",
    "np.identity(5)"
   ]
  },
  {
   "cell_type": "code",
   "execution_count": 82,
   "id": "1d87df3b-ccc7-4ffc-91b4-c1b5e4227ea2",
   "metadata": {},
   "outputs": [
    {
     "name": "stdout",
     "output_type": "stream",
     "text": [
      "[[1 2 3]\n",
      " [1 2 3]\n",
      " [1 2 3]]\n",
      "[[1 1 1 2 2 2 3 3 3]]\n"
     ]
    }
   ],
   "source": [
    "## How to repeat an array\n",
    "rep = np.array([[1,2,3]])\n",
    "r1 = np.repeat(rep ,3 , axis=0)\n",
    "print(r1)\n",
    "## The Axis make the array repeat horizontally or vertically repeat itself\n",
    "r2 = np.repeat(rep ,3 , axis=1)\n",
    "print(r2)"
   ]
  },
  {
   "cell_type": "markdown",
   "id": "40e77fb0-c015-48ea-a05a-21769f5dedc5",
   "metadata": {},
   "source": [
    "Now try initializing the following array.\n",
    "\n",
    "1 1 1 1 1\n",
    "\n",
    "1 0 0 0 1\n",
    "\n",
    "1 0 9 0 1\n",
    "\n",
    "1 0 0 0 1\n",
    "\n",
    "1 1 1 1 1"
   ]
  },
  {
   "cell_type": "code",
   "execution_count": 83,
   "id": "4863b84e-2fc9-4ba4-a089-0ab7a6df9d90",
   "metadata": {},
   "outputs": [
    {
     "name": "stdout",
     "output_type": "stream",
     "text": [
      "[[1. 1. 1. 1. 1.]\n",
      " [1. 0. 0. 0. 1.]\n",
      " [1. 0. 9. 0. 1.]\n",
      " [1. 0. 0. 0. 1.]\n",
      " [1. 1. 1. 1. 1.]]\n"
     ]
    }
   ],
   "source": [
    "sol = np.ones((5,5))\n",
    "\n",
    "mid =  np.zeros((3,3))\n",
    "mid[1,1] = 9\n",
    "\n",
    "sol [1:4, 1:4] = mid\n",
    "print(sol)"
   ]
  },
  {
   "cell_type": "code",
   "execution_count": 84,
   "id": "78bf295f-33b9-4403-8d32-4ff4f52b02a2",
   "metadata": {},
   "outputs": [
    {
     "name": "stdout",
     "output_type": "stream",
     "text": [
      "[100   2   3]\n",
      "[100   2   3]\n"
     ]
    }
   ],
   "source": [
    "##Do aware while coppying an array\n",
    "a = np.array([1,2,3])\n",
    "b = a\n",
    "b[0] = 100\n",
    "\n",
    "print(a)\n",
    "print(b)"
   ]
  },
  {
   "cell_type": "code",
   "execution_count": 85,
   "id": "b4c8765a-fdeb-45b0-81a5-b1d56db3b63e",
   "metadata": {},
   "outputs": [
    {
     "name": "stdout",
     "output_type": "stream",
     "text": [
      "[1 2 3]\n",
      "[100   2   3]\n"
     ]
    }
   ],
   "source": [
    "## To avoide this we use the copy function as follows\n",
    "\n",
    "a = np.array([1,2,3])\n",
    "b = a.copy()\n",
    "b[0] = 100\n",
    "\n",
    "print(a)\n",
    "print(b)"
   ]
  },
  {
   "cell_type": "markdown",
   "id": "6d2ac3ba-6c63-4b9e-9504-b9d4a0d0a372",
   "metadata": {},
   "source": [
    "## Mathametics"
   ]
  },
  {
   "cell_type": "code",
   "execution_count": 86,
   "id": "cb90152d-47c5-463a-8f45-c37642ee74e4",
   "metadata": {},
   "outputs": [
    {
     "name": "stdout",
     "output_type": "stream",
     "text": [
      "[1 2 3 4]\n"
     ]
    }
   ],
   "source": [
    "a = np.array([1,2,3,4])\n",
    "print(a)"
   ]
  },
  {
   "cell_type": "code",
   "execution_count": 87,
   "id": "fd803184-d162-4ec3-9746-e764eee61f4f",
   "metadata": {},
   "outputs": [
    {
     "data": {
      "text/plain": [
       "array([3, 4, 5, 6])"
      ]
     },
     "execution_count": 87,
     "metadata": {},
     "output_type": "execute_result"
    }
   ],
   "source": [
    "a+=2\n",
    "a"
   ]
  },
  {
   "cell_type": "code",
   "execution_count": 88,
   "id": "7f3413cf-436a-4c6d-a942-932e758023f1",
   "metadata": {},
   "outputs": [
    {
     "data": {
      "text/plain": [
       "array([1, 2, 3, 4])"
      ]
     },
     "execution_count": 88,
     "metadata": {},
     "output_type": "execute_result"
    }
   ],
   "source": [
    "a-2"
   ]
  },
  {
   "cell_type": "code",
   "execution_count": 89,
   "id": "41a83d57-5c39-40d3-a2e6-aa008954876d",
   "metadata": {},
   "outputs": [
    {
     "data": {
      "text/plain": [
       "array([ 6,  8, 10, 12])"
      ]
     },
     "execution_count": 89,
     "metadata": {},
     "output_type": "execute_result"
    }
   ],
   "source": [
    "a*2"
   ]
  },
  {
   "cell_type": "code",
   "execution_count": 90,
   "id": "341d6006-3317-4fc1-aa13-6f15a8b1dc14",
   "metadata": {},
   "outputs": [
    {
     "data": {
      "text/plain": [
       "array([1.5, 2. , 2.5, 3. ])"
      ]
     },
     "execution_count": 90,
     "metadata": {},
     "output_type": "execute_result"
    }
   ],
   "source": [
    "a/2"
   ]
  },
  {
   "cell_type": "code",
   "execution_count": 91,
   "id": "56d8c698-f3df-4cbd-9aca-6de993b05f0b",
   "metadata": {},
   "outputs": [
    {
     "data": {
      "text/plain": [
       "array([2, 2, 4, 4])"
      ]
     },
     "execution_count": 91,
     "metadata": {},
     "output_type": "execute_result"
    }
   ],
   "source": [
    "a = np.array([1,2,3,4])\n",
    "b = np.array([1,0,1,0])\n",
    "a+b"
   ]
  },
  {
   "cell_type": "code",
   "execution_count": 92,
   "id": "c8db30f5-68aa-4abe-8de2-546787e15667",
   "metadata": {},
   "outputs": [
    {
     "data": {
      "text/plain": [
       "array([ 1,  4,  9, 16])"
      ]
     },
     "execution_count": 92,
     "metadata": {},
     "output_type": "execute_result"
    }
   ],
   "source": [
    "a ** 2"
   ]
  },
  {
   "cell_type": "code",
   "execution_count": 93,
   "id": "0452b778-12f1-4532-a15d-2098a0cfb9cb",
   "metadata": {},
   "outputs": [
    {
     "data": {
      "text/plain": [
       "array([ 0.84147098,  0.90929743,  0.14112001, -0.7568025 ])"
      ]
     },
     "execution_count": 93,
     "metadata": {},
     "output_type": "execute_result"
    }
   ],
   "source": [
    "np.sin(a)"
   ]
  },
  {
   "cell_type": "markdown",
   "id": "02fa15af-3bf7-4955-9e2b-46e513cc3fd4",
   "metadata": {},
   "source": [
    "##### Liner Aljebra"
   ]
  },
  {
   "cell_type": "code",
   "execution_count": 94,
   "id": "8acc20bf-6820-4b06-bed4-c6f97b9c178a",
   "metadata": {},
   "outputs": [
    {
     "name": "stdout",
     "output_type": "stream",
     "text": [
      "[[1. 1. 1.]\n",
      " [1. 1. 1.]]\n",
      "[[2 2]\n",
      " [2 2]\n",
      " [2 2]]\n"
     ]
    },
    {
     "data": {
      "text/plain": [
       "array([[6., 6.],\n",
       "       [6., 6.]])"
      ]
     },
     "execution_count": 94,
     "metadata": {},
     "output_type": "execute_result"
    }
   ],
   "source": [
    "a= np.ones((2,3))\n",
    "print(a)\n",
    "\n",
    "b = np.full((3,2),2)\n",
    "print(b)\n",
    "\n",
    "np.matmul(a,b)"
   ]
  },
  {
   "cell_type": "markdown",
   "id": "230cc2e6-980f-4573-9a8e-81174ddf7ca7",
   "metadata": {},
   "source": [
    "#### Finding the Determinant"
   ]
  },
  {
   "cell_type": "code",
   "execution_count": 95,
   "id": "648bd54c-bba8-4d0e-907b-ab089e069a1a",
   "metadata": {},
   "outputs": [
    {
     "data": {
      "text/plain": [
       "1.0"
      ]
     },
     "execution_count": 95,
     "metadata": {},
     "output_type": "execute_result"
    }
   ],
   "source": [
    "c = np.identity(3)\n",
    "np.linalg.det(c)\n",
    "## This is the syntax for finding the determinant for a matrice\n",
    " \n",
    "### We can do other Linear algebra calculations on matrices using numpy library such as the following\n",
    "## Determinant\n",
    "## Trace\n",
    "## Singular vector Decomposition\n",
    "## Inverse Matrices\n",
    "## ETC"
   ]
  },
  {
   "cell_type": "markdown",
   "id": "41943d65-8a29-4c87-b6dc-99a5115af4a2",
   "metadata": {},
   "source": [
    "#### Statistics"
   ]
  },
  {
   "cell_type": "code",
   "execution_count": 96,
   "id": "d9f28e46-35fc-4d74-a90e-4a128e75afdd",
   "metadata": {},
   "outputs": [
    {
     "data": {
      "text/plain": [
       "array([[1, 2, 3],\n",
       "       [4, 5, 6]])"
      ]
     },
     "execution_count": 96,
     "metadata": {},
     "output_type": "execute_result"
    }
   ],
   "source": [
    "stats_1 = np.array([[1,2,3],[4,5,6]])\n",
    "stats_1"
   ]
  },
  {
   "cell_type": "code",
   "execution_count": 97,
   "id": "074a6bde-e290-44c0-8ce6-9e82d0a26456",
   "metadata": {},
   "outputs": [
    {
     "name": "stdout",
     "output_type": "stream",
     "text": [
      "1\n"
     ]
    },
    {
     "data": {
      "text/plain": [
       "array([1, 4])"
      ]
     },
     "execution_count": 97,
     "metadata": {},
     "output_type": "execute_result"
    }
   ],
   "source": [
    "##This prints the min value of the entre matrice\n",
    "print(np.min(stats_1))\n",
    "## Now we can get a bit fancy with it we can specify a row or column or row and column in general which's element is the smallest \n",
    "np.min(stats_1, axis=1)"
   ]
  },
  {
   "cell_type": "code",
   "execution_count": 98,
   "id": "a043a253-c8d3-488e-a58a-ed02cfa54b43",
   "metadata": {},
   "outputs": [
    {
     "name": "stdout",
     "output_type": "stream",
     "text": [
      "6\n"
     ]
    },
    {
     "data": {
      "text/plain": [
       "array([3, 6])"
      ]
     },
     "execution_count": 98,
     "metadata": {},
     "output_type": "execute_result"
    }
   ],
   "source": [
    "## Similar to min this goes for max as well as shown in the following.\n",
    "print(np.max(stats_1))\n",
    "np.max(stats_1, axis=1)"
   ]
  },
  {
   "cell_type": "code",
   "execution_count": 99,
   "id": "ff0ad2fc-4af9-494a-b008-7643454342c7",
   "metadata": {},
   "outputs": [
    {
     "name": "stdout",
     "output_type": "stream",
     "text": [
      "21\n"
     ]
    }
   ],
   "source": [
    "## We can sum up all the elements in the matrix by using the np.sum function\n",
    "print(np.sum(stats_1))\n",
    "## Same here we can aslo specify axis as per needs"
   ]
  },
  {
   "cell_type": "markdown",
   "id": "8199ae13-84f7-4601-8f7e-85a539094db4",
   "metadata": {},
   "source": [
    "#### Reorganizing arrays"
   ]
  },
  {
   "cell_type": "code",
   "execution_count": 100,
   "id": "7402483e-e979-40db-9e75-ad1930e77092",
   "metadata": {},
   "outputs": [
    {
     "name": "stdout",
     "output_type": "stream",
     "text": [
      "[[1 2 3 4]\n",
      " [5 6 7 8]]\n",
      "(2, 4)\n"
     ]
    }
   ],
   "source": [
    "beffore = np.array([[1,2,3,4],[5,6,7,8]])\n",
    "print (beffore)\n",
    "print (beffore.shape)"
   ]
  },
  {
   "cell_type": "code",
   "execution_count": 106,
   "id": "783d7075-5f2f-4756-b36b-9ab47c1cb043",
   "metadata": {},
   "outputs": [
    {
     "name": "stdout",
     "output_type": "stream",
     "text": [
      "[[1]\n",
      " [2]\n",
      " [3]\n",
      " [4]\n",
      " [5]\n",
      " [6]\n",
      " [7]\n",
      " [8]]\n"
     ]
    }
   ],
   "source": [
    "## If we want to change the shape we can do it like\n",
    "after = beffore.reshape((8,1))\n",
    "print(after)"
   ]
  },
  {
   "cell_type": "code",
   "execution_count": 109,
   "id": "6ed44512-7acc-4812-bb93-e8b502fbd46e",
   "metadata": {},
   "outputs": [
    {
     "name": "stdout",
     "output_type": "stream",
     "text": [
      "[[[1 2]\n",
      "  [3 4]]\n",
      "\n",
      " [[5 6]\n",
      "  [7 8]]]\n"
     ]
    }
   ],
   "source": [
    "after2 = beffore.reshape((2,2,2))\n",
    "print(after2)\n",
    "## We can do any shape till we have the same elements"
   ]
  },
  {
   "cell_type": "code",
   "execution_count": 119,
   "id": "9a120bec-cbf2-4e39-8ad9-f0f0ac4f9a2d",
   "metadata": {},
   "outputs": [
    {
     "name": "stdout",
     "output_type": "stream",
     "text": [
      "[[ 1  2  3  4  5]\n",
      " [ 6  7  8  9 10]]\n",
      "[[ 1  2  3  4  5]\n",
      " [ 6  7  8  9 10]\n",
      " [ 1  2  3  4  5]\n",
      " [ 1  2  3  4  5]]\n"
     ]
    }
   ],
   "source": [
    "## Now look at vertically stacking matrices\n",
    "p1 = np.array([1,2,3,4,5])\n",
    "p2 = np.array([6,7,8,9,10])\n",
    "\n",
    "p3 = np.vstack([p1,p2])\n",
    "print(p3)\n",
    "\n",
    "## We can keep passing this in for example\n",
    "_ = np.vstack([p1,p2,p1,p1])\n",
    "print(_)"
   ]
  },
  {
   "cell_type": "code",
   "execution_count": 120,
   "id": "45f4dd9b-981f-4a31-9679-e40b2c698a87",
   "metadata": {},
   "outputs": [
    {
     "name": "stdout",
     "output_type": "stream",
     "text": [
      "[ 1  2  3  4  5  6  7  8  9 10]\n"
     ]
    }
   ],
   "source": [
    "## Now look at horrizintally stacking matrices\n",
    "p4 = np.hstack([p1,p2])\n",
    "print(p4)"
   ]
  },
  {
   "cell_type": "code",
   "execution_count": 121,
   "id": "ac705924-6bbc-4cd0-aaac-2902fe9c7ff0",
   "metadata": {},
   "outputs": [],
   "source": [
    "## The end for now i need to look into boolean masking and stuff"
   ]
  },
  {
   "cell_type": "code",
   "execution_count": null,
   "id": "89d7fcfe-5be9-46aa-81f7-9a7f227697b8",
   "metadata": {},
   "outputs": [],
   "source": [
    "## TBD"
   ]
  }
 ],
 "metadata": {
  "kernelspec": {
   "display_name": "Python 3 (ipykernel)",
   "language": "python",
   "name": "python3"
  },
  "language_info": {
   "codemirror_mode": {
    "name": "ipython",
    "version": 3
   },
   "file_extension": ".py",
   "mimetype": "text/x-python",
   "name": "python",
   "nbconvert_exporter": "python",
   "pygments_lexer": "ipython3",
   "version": "3.12.0"
  }
 },
 "nbformat": 4,
 "nbformat_minor": 5
}
