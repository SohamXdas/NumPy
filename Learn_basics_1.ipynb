{
 "cells": [
  {
   "cell_type": "markdown",
   "id": "d5a68bef-9352-40bc-940b-4f080794ecde",
   "metadata": {},
   "source": [
    "## This is necessary in every program to use Numpy we need to export this first"
   ]
  },
  {
   "cell_type": "code",
   "execution_count": 1,
   "id": "710492c5-8270-44e9-882d-5aed71866a33",
   "metadata": {},
   "outputs": [],
   "source": [
    "import numpy as np"
   ]
  },
  {
   "cell_type": "markdown",
   "id": "b5e6a729-9bf2-4690-b118-5c4e4de27122",
   "metadata": {},
   "source": [
    "Now we are going to make a array using numpy\n",
    "to do this we will initialize a array as follows"
   ]
  },
  {
   "cell_type": "code",
   "execution_count": 2,
   "id": "4f5b153b-76a5-4609-8fa1-f13d8191b272",
   "metadata": {},
   "outputs": [],
   "source": [
    "a = np.array([1,2,3,4,5,6,7,8,9,10])"
   ]
  },
  {
   "cell_type": "code",
   "execution_count": 3,
   "id": "4fe9d91e-2eee-4183-b337-7a3afd7ef678",
   "metadata": {},
   "outputs": [
    {
     "name": "stdout",
     "output_type": "stream",
     "text": [
      "[ 1  2  3  4  5  6  7  8  9 10]\n"
     ]
    }
   ],
   "source": [
    "print(a)"
   ]
  },
  {
   "cell_type": "markdown",
   "id": "d6a22f3f-e92b-4f7c-b576-80b9f2d1278c",
   "metadata": {},
   "source": [
    "This was a one dimentional array 1D there can be multi dimentional array's as shown in the the following types of array's"
   ]
  },
  {
   "cell_type": "code",
   "execution_count": 4,
   "id": "4bbeed85-e0e5-429e-8ca5-145a516e0b40",
   "metadata": {},
   "outputs": [
    {
     "name": "stdout",
     "output_type": "stream",
     "text": [
      "[[1. 2. 3.]\n",
      " [4. 5. 6.]]\n"
     ]
    }
   ],
   "source": [
    "b = np.array([[1.0, 2.0, 3.0],[4.0, 5.0, 6.0]])\n",
    "## This is a 2 dimentional array\n",
    "print(b)"
   ]
  },
  {
   "cell_type": "markdown",
   "id": "8d6aa645-34cf-427a-9372-3667f9782c7a",
   "metadata": {},
   "source": [
    "Likewise this is a three dimentional array 3D"
   ]
  },
  {
   "cell_type": "code",
   "execution_count": 5,
   "id": "a0b2b286-2d6f-46d7-954c-6ae19280b66f",
   "metadata": {},
   "outputs": [
    {
     "name": "stdout",
     "output_type": "stream",
     "text": [
      "[[[0]\n",
      "  [0]]\n",
      "\n",
      " [[0]\n",
      "  [0]]]\n"
     ]
    }
   ],
   "source": [
    "c = np.array([[[0],[0]],[[0],[0]]])\n",
    "## This is a three dimentional array a list witin a list within a list \n",
    "## Generallly we dont need to visuallize it we we might need to :(\n",
    "print(c)"
   ]
  },
  {
   "cell_type": "markdown",
   "id": "2bbd050a-a485-4b6c-9e67-4b848cae1923",
   "metadata": {},
   "source": [
    "## Now we will use the properties of the nparray\n",
    "(the functions that come with it)"
   ]
  },
  {
   "cell_type": "code",
   "execution_count": 6,
   "id": "da66317d-d50a-446c-8ea3-2af3e4a2e5ab",
   "metadata": {},
   "outputs": [
    {
     "name": "stdout",
     "output_type": "stream",
     "text": [
      "1\n",
      "2\n",
      "3\n"
     ]
    }
   ],
   "source": [
    "## This is to get the dimensions of the array\n",
    "print(a.ndim)\n",
    "print(b.ndim)\n",
    "print(c.ndim)"
   ]
  },
  {
   "cell_type": "code",
   "execution_count": 7,
   "id": "6cabfcc5-2d8b-403e-9473-31b7a17c203a",
   "metadata": {},
   "outputs": [
    {
     "name": "stdout",
     "output_type": "stream",
     "text": [
      "(10,)\n",
      "(2, 3)\n",
      "(2, 2, 1)\n"
     ]
    }
   ],
   "source": [
    "## This is to check the shape of the array\n",
    "print(a.shape)\n",
    "## This is a vector as a is a single dimension so it only shows one dimension\n",
    "print(b.shape)\n",
    "print(c.shape)\n",
    "## The orientation this is first rows then column"
   ]
  },
  {
   "cell_type": "code",
   "execution_count": 8,
   "id": "017fdf2b-09fd-468a-ab68-20eca63fd62f",
   "metadata": {},
   "outputs": [
    {
     "name": "stdout",
     "output_type": "stream",
     "text": [
      "int32\n",
      "float64\n",
      "int32\n"
     ]
    }
   ],
   "source": [
    "## This is to get the data type of the array\n",
    "print(a.dtype)\n",
    "print(b.dtype)\n",
    "print(c.dtype)"
   ]
  },
  {
   "cell_type": "markdown",
   "id": "b1faf45a-765e-4a4e-8184-20f129bc2876",
   "metadata": {},
   "source": [
    "We can also change the datatype of an array by mentioning the datatype in the following way."
   ]
  },
  {
   "cell_type": "code",
   "execution_count": 9,
   "id": "9b51cc19-d5c1-415d-bdc2-07db79936746",
   "metadata": {},
   "outputs": [
    {
     "name": "stdout",
     "output_type": "stream",
     "text": [
      "int16\n"
     ]
    }
   ],
   "source": [
    "d = np.array([1,2,3,4,5], dtype='int16')\n",
    "print(d.dtype)"
   ]
  },
  {
   "cell_type": "markdown",
   "id": "1d784437-300d-4bbc-be14-20db37bb723a",
   "metadata": {},
   "source": [
    "So there are two types of size one is item size which is how much each element of the array is taking and \n",
    "size of the array is the total number of items present in the array.\n",
    "So the total size of the array can be calculated as follows x.itensize * x.size (there is also a function that calculates this for us .nbytes)"
   ]
  },
  {
   "cell_type": "code",
   "execution_count": 10,
   "id": "c76f70c7-3ae6-4507-bcb6-6fa79e6ac2d2",
   "metadata": {},
   "outputs": [
    {
     "name": "stdout",
     "output_type": "stream",
     "text": [
      "4\n",
      "10\n",
      "40\n",
      "40\n"
     ]
    }
   ],
   "source": [
    "## This is to get the size of the array (size/memory allocated to these arrays)\n",
    "print(a.itemsize)\n",
    "print(a.size)\n",
    "print(a.size * a.itemsize)\n",
    "print(a.nbytes)"
   ]
  },
  {
   "cell_type": "code",
   "execution_count": 11,
   "id": "9903013f-5443-48bb-be8a-1f16a0683987",
   "metadata": {},
   "outputs": [
    {
     "name": "stdout",
     "output_type": "stream",
     "text": [
      "2\n",
      "5\n",
      "10\n",
      "10\n"
     ]
    }
   ],
   "source": [
    "## This is to get the size of the array (size/memory allocated to these arrays)\n",
    "print(d.itemsize)\n",
    "print(d.size)\n",
    "print(d.size * d.itemsize)\n",
    "print(d.nbytes)"
   ]
  },
  {
   "cell_type": "markdown",
   "id": "be7c424c-7e86-4198-b366-fcfbc982ff21",
   "metadata": {},
   "source": [
    "## Now we will see how to access or change certain data in a array"
   ]
  },
  {
   "cell_type": "code",
   "execution_count": 12,
   "id": "56e13d3c-6469-49a3-b1af-9702791780c6",
   "metadata": {},
   "outputs": [],
   "source": [
    "##The counting in python works in the following ways\n",
    "\n",
    "##elements      1   2   3   4   5   6   7   8   9\n",
    "\n",
    "##counting 1    0   1   2   3   4   5   6   7   8\n",
    "\n",
    "##counting 2    0  -8  -7  -6  -5  -4  -3  -2  -1"
   ]
  },
  {
   "cell_type": "markdown",
   "id": "ebf9fa07-df63-4bf1-81ba-7748b6eec601",
   "metadata": {},
   "source": [
    "First let's define some new arrays to work on"
   ]
  },
  {
   "cell_type": "code",
   "execution_count": 13,
   "id": "eb946351-6091-4f4e-aa29-275301b6a8b3",
   "metadata": {},
   "outputs": [
    {
     "name": "stdout",
     "output_type": "stream",
     "text": [
      "[[ 1  2  3  4  5  6  7]\n",
      " [ 8  9 10 11 12 13 14]]\n",
      "(2, 7)\n"
     ]
    }
   ],
   "source": [
    "## Defining a new array 2D array\n",
    "x = np.array([[1,2,3,4,5,6,7], [8,9,10,11,12,13,14]])\n",
    "print(x)\n",
    "print(x.shape)"
   ]
  },
  {
   "cell_type": "markdown",
   "id": "5f09e5de-f215-4ace-82a7-9b63af53c789",
   "metadata": {},
   "source": [
    "Now we will try to get a specific element from the array \n",
    "**To do that we will use the notation of [row, column] [r,c]**\n",
    "And always remember the counting in Python starts from 0\n",
    "so if we want to access the 10 which is present in the row 2 column 3 we need to do this"
   ]
  },
  {
   "cell_type": "code",
   "execution_count": 14,
   "id": "b5704420-30cb-4271-9271-54a139f75017",
   "metadata": {},
   "outputs": [
    {
     "name": "stdout",
     "output_type": "stream",
     "text": [
      "10\n"
     ]
    }
   ],
   "source": [
    "print(x[1,2])"
   ]
  },
  {
   "cell_type": "markdown",
   "id": "659d7001-1d81-4363-9915-3effe6998b1a",
   "metadata": {},
   "source": [
    "We can also use negative annotation to extract elements from the array in the following way if we want to extract 13"
   ]
  },
  {
   "cell_type": "code",
   "execution_count": 15,
   "id": "7aadca7e-474a-4933-90a3-8f965e3ae370",
   "metadata": {},
   "outputs": [
    {
     "name": "stdout",
     "output_type": "stream",
     "text": [
      "13\n"
     ]
    }
   ],
   "source": [
    "print(x[1,-2])"
   ]
  },
  {
   "cell_type": "markdown",
   "id": "09e225ab-25eb-48b8-9594-7f8752a574ac",
   "metadata": {},
   "source": [
    "Now lets see how to export a entire Row or Column we will use the \":\" character for doing this as we have used it simallary in a list"
   ]
  },
  {
   "cell_type": "code",
   "execution_count": 16,
   "id": "9698022b-e562-4903-a8ac-8ece584d14bd",
   "metadata": {},
   "outputs": [
    {
     "name": "stdout",
     "output_type": "stream",
     "text": [
      "[ 8  9 10 11 12 13 14]\n",
      "[ 4 11]\n"
     ]
    }
   ],
   "source": [
    "print(x[1,:])\n",
    "print(x[:,3])\n",
    "# ':' this characteer meas give the all of the rows or colums in the present vice versa for example (3,:) mans give me all the colums on row number 3\n",
    "# Dont forget how the counting in pythonn works reffer above"
   ]
  },
  {
   "cell_type": "markdown",
   "id": "ff758298-d71d-40fb-82ce-94376e7f3b35",
   "metadata": {},
   "source": [
    "There is a way to do a little bit more actually unnder the hood this line works in the following ways\n",
    "\n",
    "    We can mention the varriable then in the box bracketsits the following **x['the row/column', startindex:endindex:stepsize]**\n",
    "    Like following \n",
    "    The step size means the jump in between the elements\n",
    "\n",
    "**x['the row/column', startindex:endindex:stepsize]**"
   ]
  },
  {
   "cell_type": "code",
   "execution_count": 17,
   "id": "bfe20a6b-a309-4e72-9072-f713eae4336c",
   "metadata": {},
   "outputs": [
    {
     "data": {
      "text/plain": [
       "array([2, 4, 6])"
      ]
     },
     "execution_count": 17,
     "metadata": {},
     "output_type": "execute_result"
    }
   ],
   "source": [
    "x[0, 1:8:2]"
   ]
  },
  {
   "cell_type": "markdown",
   "id": "874b03de-bafd-48c7-874f-ce68864613c6",
   "metadata": {},
   "source": [
    "Now lets see how to change a element"
   ]
  },
  {
   "cell_type": "code",
   "execution_count": 18,
   "id": "176487af-1ab5-4a3e-82d5-1f418dc69553",
   "metadata": {},
   "outputs": [
    {
     "name": "stdout",
     "output_type": "stream",
     "text": [
      "[[ 1  9  3  4  5  6  7]\n",
      " [ 8  9 10 11 12 13 14]]\n"
     ]
    }
   ],
   "source": [
    "x[0,1] = 9\n",
    "print(x)"
   ]
  },
  {
   "cell_type": "markdown",
   "id": "16c4151f-4afd-4c81-b7bc-096f2108b3a1",
   "metadata": {},
   "source": [
    "We can also change entire rows or colums in the following ways"
   ]
  },
  {
   "cell_type": "code",
   "execution_count": 19,
   "id": "f27ada59-62a5-4660-9057-6141faac588a",
   "metadata": {},
   "outputs": [
    {
     "name": "stdout",
     "output_type": "stream",
     "text": [
      "[[ 1  9  3  4  5  6  7]\n",
      " [22 22 22 22 22 22 22]]\n"
     ]
    }
   ],
   "source": [
    "x[1,:] = 22\n",
    "print(x)"
   ]
  },
  {
   "cell_type": "markdown",
   "id": "ad151a8a-9d91-43b8-943c-dde7baed2762",
   "metadata": {},
   "source": [
    "**Now lets see a 3-D exapmle**"
   ]
  },
  {
   "cell_type": "code",
   "execution_count": 20,
   "id": "6ab0a821-ea28-4f19-ab95-b324e83ec5d4",
   "metadata": {},
   "outputs": [
    {
     "name": "stdout",
     "output_type": "stream",
     "text": [
      "[[[1 2]\n",
      "  [3 4]]\n",
      "\n",
      " [[5 6]\n",
      "  [7 8]]]\n"
     ]
    }
   ],
   "source": [
    "#initialying a 3-d array\n",
    "y = np.array([[[1,2],[3,4]],[[5,6],[7,8]]])\n",
    "print(y)"
   ]
  },
  {
   "cell_type": "markdown",
   "id": "73a09b31-e186-426b-9860-41880f0c99d2",
   "metadata": {},
   "source": [
    "Now lets see how to get a specific -element in a 3-D array \n"
   ]
  },
  {
   "cell_type": "code",
   "execution_count": 21,
   "id": "249f092b-f67b-4056-93a1-60a16238e1cb",
   "metadata": {},
   "outputs": [
    {
     "name": "stdout",
     "output_type": "stream",
     "text": [
      "4\n"
     ]
    }
   ],
   "source": [
    "#get a specific element \n",
    "#of get or work with complex 3D or bigger arrays we work outside in\n",
    "#for example we will first define the outer array then we will go into the inner matrices\n",
    "print ((y[0,1,1]))"
   ]
  },
  {
   "cell_type": "markdown",
   "id": "c9c49c5f-b0f3-439c-a386-506d0a743d4c",
   "metadata": {},
   "source": [
    "Now if we have to change some elements it works the same way but if we want to change the a matrices entirely we can do that too but the matrices have to be of the same dimensions "
   ]
  },
  {
   "cell_type": "code",
   "execution_count": 22,
   "id": "034dc40d-df00-4748-a8ea-78df0bc7b39e",
   "metadata": {},
   "outputs": [
    {
     "name": "stdout",
     "output_type": "stream",
     "text": [
      "[[[1 2]\n",
      "  [0 0]]\n",
      "\n",
      " [[5 6]\n",
      "  [0 0]]]\n"
     ]
    }
   ],
   "source": [
    "y[:,1,:] = [[0,0],[0,0]]\n",
    "print(y)"
   ]
  },
  {
   "cell_type": "markdown",
   "id": "3f7c900a-57d9-4016-b493-df854ce2d137",
   "metadata": {},
   "source": [
    "## Initializing Different Types of Arrays"
   ]
  },
  {
   "cell_type": "markdown",
   "id": "ec7484a9-8ea9-4ec6-9827-c81ef58de0fe",
   "metadata": {},
   "source": [
    "Now we will see how many different types of array exist and how to initialize those"
   ]
  },
  {
   "cell_type": "code",
   "execution_count": 32,
   "id": "a98948ab-20fa-4faa-95d0-8490ec838cd5",
   "metadata": {},
   "outputs": [
    {
     "name": "stdout",
     "output_type": "stream",
     "text": [
      "[0. 0. 0.]\n",
      "\n",
      "[[0. 0. 0.]\n",
      " [0. 0. 0.]]\n",
      "\n",
      "[[[0. 0. 0.]\n",
      "  [0. 0. 0.]\n",
      "  [0. 0. 0.]]\n",
      "\n",
      " [[0. 0. 0.]\n",
      "  [0. 0. 0.]\n",
      "  [0. 0. 0.]]]\n"
     ]
    }
   ],
   "source": [
    "## All zero matrices can be created in the following ways\n",
    "zero = np.zeros(3)\n",
    "zero2 = np.zeros((2,3))\n",
    "zero3 = np.zeros((2,3,3))\n",
    "\n",
    "print(zero)\n",
    "print()\n",
    "print(zero2)\n",
    "print()\n",
    "print(zero3)"
   ]
  },
  {
   "cell_type": "code",
   "execution_count": 36,
   "id": "ddaf430d-1440-4ca1-890f-e0ddf9278e27",
   "metadata": {},
   "outputs": [
    {
     "name": "stdout",
     "output_type": "stream",
     "text": [
      "[[[1 1]\n",
      "  [1 1]]\n",
      "\n",
      " [[1 1]\n",
      "  [1 1]]\n",
      "\n",
      " [[1 1]\n",
      "  [1 1]]\n",
      "\n",
      " [[1 1]\n",
      "  [1 1]]]\n"
     ]
    }
   ],
   "source": [
    "## Now Lets try to make a 1s matriuc\n",
    "## We can also specify the data type we wa the matrice of like following\n",
    "one = np.ones((4,2,2), dtype='int32')\n",
    "print(one)"
   ]
  },
  {
   "cell_type": "code",
   "execution_count": 43,
   "id": "f77de2e1-9e1d-42b4-8e35-08c8c0ac06c0",
   "metadata": {},
   "outputs": [
    {
     "name": "stdout",
     "output_type": "stream",
     "text": [
      "[[69 69]\n",
      " [69 69]]\n"
     ]
    }
   ],
   "source": [
    "## and to make a matrice of any other number \n",
    "other = np.full((2,2), 69, dtype='int64')\n",
    "## This takes in 2 inputs the shape of the matrice and then the nummber we wanna fill the matrice of\n",
    "## Here 2,2  is the shape of the matrice and 69 is the number we chose to fill the matrice with.\n",
    "## We can also put a data type after this as , dtype='int32' \n",
    "print (other)"
   ]
  },
  {
   "cell_type": "code",
   "execution_count": 52,
   "id": "8adfaee9-bc3f-4a47-829e-c274d2f83e06",
   "metadata": {},
   "outputs": [
    {
     "name": "stdout",
     "output_type": "stream",
     "text": [
      "[[[1 2]\n",
      "  [0 0]]\n",
      "\n",
      " [[5 6]\n",
      "  [0 0]]]\n",
      "\n",
      "[[[0 0]\n",
      "  [0 0]]\n",
      "\n",
      " [[0 0]\n",
      "  [0 0]]]\n"
     ]
    }
   ],
   "source": [
    "## We can use the shapes of pre existing arrays by using the function full_like\n",
    "print(y)\n",
    "print()\n",
    "_= np.full_like(y,0)\n",
    "## The above sintax can also be written as np.full(y.shape, 0)\n",
    "print(_)"
   ]
  },
  {
   "cell_type": "code",
   "execution_count": 74,
   "id": "9c84f2ce-e751-4cb5-9d51-ac623a8f3e00",
   "metadata": {},
   "outputs": [
    {
     "name": "stdout",
     "output_type": "stream",
     "text": [
      "[[[0.43950941 0.37180757 0.89191986]\n",
      "  [0.44409529 0.06898492 0.16560001]]\n",
      "\n",
      " [[0.84536881 0.93149166 0.44073231]\n",
      "  [0.06371611 0.42369353 0.19712728]]\n",
      "\n",
      " [[0.46182243 0.22317758 0.2246133 ]\n",
      "  [0.75123274 0.6879029  0.66252754]]\n",
      "\n",
      " [[0.72789806 0.89657452 0.72433498]\n",
      "  [0.98018488 0.63743229 0.85772306]]]\n",
      "\n",
      "\n",
      "[[[0.77238359 0.56820727]\n",
      "  [0.59797921 0.7056567 ]]\n",
      "\n",
      " [[0.10989279 0.91439554]\n",
      "  [0.14762193 0.16640352]]]\n"
     ]
    }
   ],
   "source": [
    "## How to make a array with random decimal numbers\n",
    "print(np.random.rand(4,2,3))\n",
    "\n",
    "print()\n",
    "print()\n",
    "\n",
    "## If we wanna pass in a shape and then fill it wih random nubers the sinntax for that is as follows\n",
    "print(np.random.random_sample(y.shape))"
   ]
  },
  {
   "cell_type": "code",
   "execution_count": 78,
   "id": "524d167f-6ce5-4a95-9941-8506a82cb6f7",
   "metadata": {},
   "outputs": [
    {
     "data": {
      "text/plain": [
       "array([[4, 1, 1],\n",
       "       [1, 0, 1],\n",
       "       [0, 3, 1]])"
      ]
     },
     "execution_count": 78,
     "metadata": {},
     "output_type": "execute_result"
    }
   ],
   "source": [
    "## How to make a array with random decimal numbers\n",
    "np.random.randint(5, size=(3,3))\n",
    "## The first one is the limit (2,4) means the number generated will be a part of "
   ]
  },
  {
   "cell_type": "code",
   "execution_count": null,
   "id": "0cd74e04-6a22-4cdb-948e-0bdcb492e8fd",
   "metadata": {},
   "outputs": [],
   "source": []
  }
 ],
 "metadata": {
  "kernelspec": {
   "display_name": "Python 3 (ipykernel)",
   "language": "python",
   "name": "python3"
  },
  "language_info": {
   "codemirror_mode": {
    "name": "ipython",
    "version": 3
   },
   "file_extension": ".py",
   "mimetype": "text/x-python",
   "name": "python",
   "nbconvert_exporter": "python",
   "pygments_lexer": "ipython3",
   "version": "3.12.0"
  }
 },
 "nbformat": 4,
 "nbformat_minor": 5
}
